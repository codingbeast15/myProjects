{
  "nbformat": 4,
  "nbformat_minor": 0,
  "metadata": {
    "colab": {
      "provenance": []
    },
    "kernelspec": {
      "name": "python3",
      "display_name": "Python 3"
    },
    "language_info": {
      "name": "python"
    }
  },
  "cells": [
    {
      "cell_type": "code",
      "execution_count": null,
      "metadata": {
        "id": "v99ocUZVno2z"
      },
      "outputs": [],
      "source": [
        "import cv2\n",
        "import numpy as np\n",
        "from deepface import DeepFace\n",
        "face_cascade = cv2.CascadeClassifier('haarcascade_frontalface_default.xml')\n",
        "age_model = DeepFace.build_model(\"Age\")\n",
        "eye_cascade = cv2.CascadeClassifier('haarcascade_eye.xml')\n",
        "def detect_face_age_eyes(image_path):\n",
        "    # Load the image\n",
        "    img = cv2.imread(image_path)\n",
        "    # Convert to grayscale\n",
        "    gray = cv2.cvtColor(img, cv2.COLOR_BGR2GRAY)\n",
        "    # Detect faces\n",
        "    faces = face_cascade.detectMultiScale(gray, scaleFactor=1.3, minNeighbors=5)\n",
        "    # Loop over each face and perform age estimation and eye detection\n",
        "    for (x, y, w, h) in faces:\n",
        "        # Extract the face ROI\n",
        "        face = img[y:y+h, x:x+w]\n",
        "        # Perform age estimation\n",
        "        age = int(DeepFace.predictAge(face, model_name='Age')['age'])\n",
        "        # Draw a rectangle around the face and label with age\n",
        "        cv2.rectangle(img, (x, y), (x+w, y+h), (0, 255, 0), 2)\n",
        "        cv2.putText(img, f\"Age: {age}\", (x, y-10), cv2.FONT_HERSHEY_SIMPLEX, 0.9, (0, 255, 0), 2)\n",
        "        # Detect eyes\n",
        "        eyes = eye_cascade.detectMultiScale(face, scaleFactor=1.3, minNeighbors=5)\n",
        "        # Loop over each eye and draw a rectangle\n",
        "        for (ex, ey, ew, eh) in eyes:\n",
        "            cv2.rectangle(img, (x+ex, y+ey), (x+ex+ew, y+ey+eh), (255, 0, 0), 2)\n",
        "    # Display the image\n",
        "    cv2.imshow('Image', img)\n",
        "    cv2.waitKey(0)\n",
        "    cv2.destroyAllWindows()\n",
        "    detect_face_age_eyes('test.jpg')"
      ]
    }
  ]
}